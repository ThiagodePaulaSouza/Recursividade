{
 "cells": [
  {
   "attachments": {},
   "cell_type": "markdown",
   "metadata": {},
   "source": [
    "# Analise de algoritmos - Recursividade em C#\n",
    "\n",
    "### O que são algoritmos?\n",
    "\n",
    "Algoritmo é uma sequência finita de ações executáveis que visam obter uma solução para um determinado tipo de problema. Segundo Dasgupta, Papadimitriou e Vazirani; \"Algoritmos são procedimentos precisos, não ambíguos, padronizados, eficientes e corretos.\".\n",
    "\n",
    "### O que é C#?\n",
    "\n",
    "É uma linguagem de programação orientada a objetos criada pela Microsoft, amplamente utilizada que você pode usar para a criação de sites, jogos, aplicativos móveis, aplicativos de desktop etc. O C# faz parte da plataforma de programação .NET, que inclui bibliotecas para todos esses aplicativos.\n",
    "\n",
    "### O que é recursividade?\n",
    "\n",
    "A recursão especifica (ou constrói) uma classe de objetos ou métodos (ou um objeto de uma certa classe) definindo alguns poucos casos base ou métodos muito simples (frequentemente apenas um), e então definindo regras para formular casos complexos em termos de casos mais simples."
   ]
  },
  {
   "attachments": {},
   "cell_type": "markdown",
   "metadata": {},
   "source": [
    "## CallStack\n",
    "um conceito muito importante da recursividade que está em volta de toda magica que ela faz é com relação ao callstack dela, como o programa vai executar seus metodos apos outras dependencias.\n",
    "Um exemplo é quando você precisa checar seu email mas seu chefe te manda fazer outra coisa e você só vai conseguir checar seu email após o termino da tarefa atual, essa é a call stack.\n"
   ]
  },
  {
   "cell_type": "code",
   "execution_count": 5,
   "metadata": {
    "dotnet_interactive": {
     "language": "csharp"
    },
    "polyglot_notebook": {
     "kernelName": "csharp"
    }
   },
   "outputs": [
    {
     "name": "stdout",
     "output_type": "stream",
     "text": [
      "Bom Dia Amigo.\r\n"
     ]
    }
   ],
   "source": [
    "public string A() => \"Bom \" + B();\n",
    "public string B() => \"Dia \" + C();\n",
    "public string C() => \"Amigo.\";\n",
    "\n",
    "Console.WriteLine(A())"
   ]
  },
  {
   "attachments": {},
   "cell_type": "markdown",
   "metadata": {},
   "source": [
    "### Problema comum -> Stack OverFlow\n",
    "Esse Problema acontece quando se exede o buffer pre-alocado que o programa tem.\n",
    "```csharp\n",
    "public string StackOverFlow() => StackOverFlow();\n",
    "```"
   ]
  },
  {
   "attachments": {},
   "cell_type": "markdown",
   "metadata": {},
   "source": [
    "## Recursão com Strings."
   ]
  },
  {
   "attachments": {},
   "cell_type": "markdown",
   "metadata": {},
   "source": [
    "### Reverter String"
   ]
  },
  {
   "cell_type": "code",
   "execution_count": 6,
   "metadata": {
    "dotnet_interactive": {
     "language": "csharp"
    },
    "polyglot_notebook": {
     "kernelName": "csharp"
    }
   },
   "outputs": [
    {
     "name": "stdout",
     "output_type": "stream",
     "text": [
      "alo\r\n"
     ]
    }
   ],
   "source": [
    "public string ReverterString(string str)\n",
    "{\n",
    "    if(str.Equals(\"\")) return \"\";\n",
    "\n",
    "    return ReverterString(str.Substring(1)) + str.ElementAt(0);\n",
    "}\n",
    "\n",
    "Console.WriteLine(    ReverterString(\"ola\")     );"
   ]
  },
  {
   "attachments": {},
   "cell_type": "markdown",
   "metadata": {},
   "source": [
    "Quando olhamos para o algoritmo é percebivel duas ações que é feita dentro da função\n",
    "Condição de parada.\n",
    "\n",
    "Ação realizada unitariamente para recursivamente montar a resposta até chegar na condição de parada.\n",
    "\n",
    "A primeira linha de raciocio ao montar funções recursivas está em quando que eu posso parar minha função, nesse caso qual é o menor valor de input que eu posso dar para parar a execução, no caso é \"\".\n",
    "```csharp\n",
    "if(str.Equals(\"\")) return \"\";\n",
    "```\n",
    "Agora que o primeiro passo foi feito, vem a parte crucial da função recursiva, qual é menor unidade de trabalho que eu posso fazer pra realizar esse trabalho?\n",
    "Nesse caso a linha de raciocinio foi a de que: \n",
    "\n",
    "Talvez eu consiga modificar apenas um caracter dessa string passada, e onde quer que eu posicione ele será possivel concatená-lo a call stack em uma ordem reversa\n",
    "```csharp\n",
    "return ReverterString(str.Substring(1)) + str.ElementAt(0);\n",
    "```\n",
    "Então nesse código ele vai pegar a string toda menos o primeiro caracter e vai concatenar com o primeiro caracter\n",
    "\n",
    "O primeiro pedaço do código é para reduzir o espaço do problema pegando apenas o primeiro caracter\n",
    "\n",
    "O segundo é a contribuição que a gente faz pra alcançar a condição de parada. De baixo pra cima\n",
    "\n",
    "| fn                       | input     |\n",
    "|--------------------------|-----------|\n",
    "| reverterString(\"\")  +\"a\" |           |\n",
    "| reverterString(\"a\") +\"l\" |           |\n",
    "| reverterString(\"la\")+\"o\" | \"ola\"     |\n",
    "\n",
    "Agora ele vai executar a stack conforme for retornando. De cima pra baixo\n",
    "| fn                       | return      |\n",
    "|--------------------------|-------------|\n",
    "| reverterString(\"\")  +\"a\" | return \"a\"  |\n",
    "| reverterString(\"a\") +\"l\" | return \"al\" |\n",
    "| reverterString(\"la\")+\"o\" | return \"alo\"|"
   ]
  },
  {
   "attachments": {},
   "cell_type": "markdown",
   "metadata": {},
   "source": []
  }
 ],
 "metadata": {
  "kernelspec": {
   "display_name": ".NET (C#)",
   "language": "C#",
   "name": ".net-csharp"
  },
  "language_info": {
   "name": "polyglot-notebook"
  },
  "polyglot_notebook": {
   "kernelInfo": {
    "defaultKernelName": "csharp",
    "items": [
     {
      "aliases": [],
      "name": "csharp"
     }
    ]
   }
  }
 },
 "nbformat": 4,
 "nbformat_minor": 2
}
